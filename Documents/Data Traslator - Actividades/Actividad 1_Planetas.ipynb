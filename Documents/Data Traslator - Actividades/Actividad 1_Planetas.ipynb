{
 "cells": [
  {
   "cell_type": "code",
   "execution_count": 1,
   "id": "a5b7c4ee",
   "metadata": {},
   "outputs": [],
   "source": [
    "import numpy as np"
   ]
  },
  {
   "cell_type": "markdown",
   "id": "b4d29349",
   "metadata": {},
   "source": [
    "# Review 1"
   ]
  },
  {
   "cell_type": "code",
   "execution_count": 38,
   "id": "28d34ab8",
   "metadata": {},
   "outputs": [],
   "source": [
    "#1. Escribe una función que imprima la cadena \"Hola mundo“\n",
    "def frase():\n",
    "    print(\"Hola mundo atte. Pau\")"
   ]
  },
  {
   "cell_type": "code",
   "execution_count": 39,
   "id": "f0aba4ba",
   "metadata": {},
   "outputs": [
    {
     "name": "stdout",
     "output_type": "stream",
     "text": [
      "Hola mundo atte. Pau\n"
     ]
    }
   ],
   "source": [
    "frase()"
   ]
  },
  {
   "cell_type": "code",
   "execution_count": 3,
   "id": "4aa0e9f2",
   "metadata": {},
   "outputs": [],
   "source": [
    "#2. Programa para no recordar el número de las Resistencias\n",
    "# Negro: 0, Marrón: 1, Rojo: 2, Naranja: 3, Amarillo: 4, Verde: 5, Azul: 6, Púrpura: 7, Gris: 8, Blanco: 9\n",
    "# El argumento de la función debe aceptar una cadena de colores separados por un guión."
   ]
  },
  {
   "cell_type": "code",
   "execution_count": 99,
   "id": "78763900",
   "metadata": {},
   "outputs": [
    {
     "name": "stdout",
     "output_type": "stream",
     "text": [
      " 79\n"
     ]
    }
   ],
   "source": [
    "dic_Colores = {'Negro': '0','Marron': 1,'Rojo': '2','Naranja': '3', 'Amarillo': '4', 'Verde': 5,\n",
    "              'Azul': '6','Purpura': '7', 'Gris': '8','Blanco': '9'}\n",
    "\n",
    "def resistencias(resis):\n",
    "    colores = resis.split(\"-\")\n",
    "    valor = \" \";\n",
    "    \n",
    "    for color in colores:\n",
    "        valor = valor +str(dic_Colores[color]);\n",
    "    print(valor)\n",
    "\n",
    "resistencias(\"Purpura-Blanco\");"
   ]
  },
  {
   "cell_type": "code",
   "execution_count": 28,
   "id": "6b86729b",
   "metadata": {},
   "outputs": [],
   "source": [
    "#3. - Crear una función que la entrada sea un año, y este de como salida si es un año bisiesto o no.\n",
    "# Revisar si es divisible entre 4"
   ]
  },
  {
   "cell_type": "code",
   "execution_count": 114,
   "id": "2bcb4211",
   "metadata": {},
   "outputs": [],
   "source": [
    "def bisiesto(anio):\n",
    "    if(anio %4 != 0): \n",
    "        print(\"El año {0} no es bisiesto\".format(anio))\n",
    "    elif(anio %4 == 0 and anio %100 != 0):\n",
    "        print(\"El año {0} es bisiesto\".format(anio))\n",
    "    elif(anio %4 == 0 and anio %100 == 0 and anio %400 != 0):\n",
    "        print(\"El año {0} no es bisiesto\".format(anio))\n",
    "    elif(anio %4 == 0 and anio %100 == 0 and anio %400 == 0):\n",
    "        print(\"El año {0} es bisiesto\".format(anio))"
   ]
  },
  {
   "cell_type": "code",
   "execution_count": 117,
   "id": "f62ff08a",
   "metadata": {},
   "outputs": [
    {
     "name": "stdout",
     "output_type": "stream",
     "text": [
      "El año 2000 es bisiesto\n",
      "El año 1999 no es bisiesto\n",
      "El año 1998 no es bisiesto\n",
      "El año 1997 no es bisiesto\n",
      "El año 1996 es bisiesto\n"
     ]
    }
   ],
   "source": [
    "bisiesto(2000)\n",
    "bisiesto(1999)\n",
    "bisiesto(1998)\n",
    "bisiesto(1997)\n",
    "bisiesto(1996)"
   ]
  },
  {
   "cell_type": "code",
   "execution_count": 41,
   "id": "bcd3076f",
   "metadata": {},
   "outputs": [],
   "source": [
    "#4. Dado un nombre de planeta y una edad en segundos, calcula qué edad tendría alguien en\n",
    "    #Mercurio: período orbital 0,2408467 años terrestres\n",
    "    #Venus: período orbital 0,61519726 años terrestres\n",
    "    #Tierra: período orbital 1,0 años terrestres, 365,25 días terrestres o 31557600segundos\n",
    "    #Marte: período orbital 1,8808158 años terrestres\n",
    "    #Júpiter: período orbital 11,862615 años terrestres\n",
    "    #Saturno: período orbital 29,447498 años terrestres\n",
    "    #Urano: período orbital 84,016846 años terrestres\n",
    "    #Neptuno: período orbital 164,79132 años terrestres\n",
    "# NOTA: Por tanto, si te dijeran que alguien tiene 1.000.000.000 de segundos, deberías poder decir que tiene 31,69 años terrestres.Redondea a 2 dígitos después del decimal."
   ]
  },
  {
   "cell_type": "code",
   "execution_count": 120,
   "id": "cec90c1a",
   "metadata": {},
   "outputs": [
    {
     "name": "stdout",
     "output_type": "stream",
     "text": [
      "162.43\n",
      "63.59\n",
      "39.12\n",
      "20.8\n",
      "3.3\n",
      "1.33\n",
      "0.47\n",
      "0.24\n"
     ]
    }
   ],
   "source": [
    "def edad(segundos, planeta):\n",
    "    edadHumano= 31557600;\n",
    "    edadTierra = segundos/edadHumano;\n",
    "    edadPlaneta = {'Mercurio': 0.2408467, 'Venus':0.61519726, 'Tierra':1.0,'Marte':1.8808158,\n",
    "                   'Júpiter':11.862615,'Saturno':29.447498,'Urano':84.016846,'Neptuno':164.79132};\n",
    "    \n",
    "    if(planeta == \"Tierra\"):\n",
    "        print(round(edadTierra, 2))\n",
    "    else:\n",
    "        print(round(edadTierra / edadPlaneta[planeta],2))\n",
    "\n",
    "val = 1234567890\n",
    "\n",
    "edad(val, \"Mercurio\");\n",
    "edad(val, \"Venus\");\n",
    "edad(val, \"Tierra\");\n",
    "edad(val, \"Marte\");\n",
    "edad(val, \"Júpiter\");\n",
    "edad(val, \"Saturno\");\n",
    "edad(val, \"Urano\");\n",
    "edad(val, \"Neptuno\");"
   ]
  }
 ],
 "metadata": {
  "kernelspec": {
   "display_name": "Python 3 (ipykernel)",
   "language": "python",
   "name": "python3"
  },
  "language_info": {
   "codemirror_mode": {
    "name": "ipython",
    "version": 3
   },
   "file_extension": ".py",
   "mimetype": "text/x-python",
   "name": "python",
   "nbconvert_exporter": "python",
   "pygments_lexer": "ipython3",
   "version": "3.9.12"
  }
 },
 "nbformat": 4,
 "nbformat_minor": 5
}
